{
 "cells": [
  {
   "cell_type": "markdown",
   "metadata": {},
   "source": [
    "# Import the necessary packages"
   ]
  },
  {
   "cell_type": "code",
   "execution_count": 61,
   "metadata": {
    "scrolled": true
   },
   "outputs": [],
   "source": [
    "import kaggle\n",
    "import zipfile\n",
    "import pandas as pd\n",
    "import numpy as np\n",
    "import matplotlib.pyplot as plt\n",
    "import cv2\n",
    "import os\n",
    "from kaggle.api.kaggle_api_extended import KaggleApi\n",
    "import random \n",
    "import tensorflow as tf\n",
    "from tensorflow.keras import layers, models\n",
    "from sklearn.model_selection import train_test_split\n",
    "import datetime\n",
    "from sklearn.metrics import classification_report\n"
   ]
  },
  {
   "cell_type": "markdown",
   "metadata": {},
   "source": [
    "# Obtain Input Data"
   ]
  },
  {
   "cell_type": "code",
   "execution_count": 45,
   "metadata": {},
   "outputs": [],
   "source": [
    "#Call Kaggle API\n",
    "#api = KaggleApi()\n",
    "#api.authenticate()"
   ]
  },
  {
   "cell_type": "code",
   "execution_count": 46,
   "metadata": {},
   "outputs": [],
   "source": [
    "#handle = zipfile.ZipFile(r'C:\\Users\\Aaron\\.kaggle\\dogs-vs-cats.zip','r')\n",
    "#handle.extractall(r'C:\\Users\\Aaron\\.kaggle')\n",
    "#handle.close()"
   ]
  },
  {
   "cell_type": "code",
   "execution_count": 12,
   "metadata": {},
   "outputs": [],
   "source": [
    "#handle = zipfile.ZipFile(r'C:\\Users\\Aaron\\.kaggle\\train.zip','r')\n",
    "#handle.extractall(r'C:\\Users\\Aaron\\.kaggle')\n",
    "#handle.close()"
   ]
  },
  {
   "cell_type": "code",
   "execution_count": 47,
   "metadata": {},
   "outputs": [],
   "source": [
    "DIRECTORY = r'C:\\Users\\Aaron\\.kaggle\\train'\n",
    "CATEGORIES = ['cat','dog']\n",
    "\n",
    "data = []\n",
    "\n",
    "for category in CATEGORIES:\n",
    "    path = os.path.join(DIRECTORY, category)\n",
    "    for img in os.listdir(path):\n",
    "        img_path = os.path.join(path, img)\n",
    "        label = CATEGORIES.index(category)\n",
    "        arr = cv2.imread(img_path, cv2.COLOR_BGR2RGB)\n",
    "        new_arr = cv2.resize(arr, (60, 60))\n",
    "        data.append([new_arr, label])"
   ]
  },
  {
   "cell_type": "code",
   "execution_count": 48,
   "metadata": {},
   "outputs": [
    {
     "data": {
      "image/png": "[encoded data removed]",
      "text/plain": [
       "<Figure size 432x288 with 1 Axes>"
      ]
     },
     "metadata": {
      "needs_background": "light"
     },
     "output_type": "display_data"
    }
   ],
   "source": [
    "plt.imshow(data[3][0],cmap=plt.cm.binary) #Do weird negative images impact model\n",
    "plt.show()\n",
    "#Negative kitty?"
   ]
  },
  {
   "cell_type": "raw",
   "metadata": {},
   "source": [
    "Seems that most images are in color, but negative images have been identified in the dataset. The methods involved in the pattern recognition for CNNs image classification identify patterns based on the pixel values, however, if the dataset is mixed with RBG images vs Negative images a similar pattern is likely to manifest differently in the model and therefore would likely benfit from removing from the dataset."
   ]
  },
  {
   "cell_type": "code",
   "execution_count": 49,
   "metadata": {},
   "outputs": [],
   "source": [
    "# Add to github using github repo shtuff"
   ]
  },
  {
   "cell_type": "markdown",
   "metadata": {},
   "source": [
    "# Model Training Prep"
   ]
  },
  {
   "cell_type": "code",
   "execution_count": 50,
   "metadata": {},
   "outputs": [],
   "source": [
    "#Mix the data up, between cats and dog\n",
    "\n",
    "random.shuffle(data) ##lookup\n",
    "\n",
    "X = []\n",
    "y = []\n",
    "\n",
    "\n",
    "for features, label in data:\n",
    "    X.append(features)\n",
    "    y.append(label)\n",
    "    \n",
    "\n",
    "X = np.array(X)\n",
    "y = np.array(y)"
   ]
  },
  {
   "cell_type": "code",
   "execution_count": 53,
   "metadata": {},
   "outputs": [],
   "source": [
    "X_train, X_test, y_train, y_test = train_test_split(X,y,test_size=0.45,random_state = 2) "
   ]
  },
  {
   "cell_type": "code",
   "execution_count": 54,
   "metadata": {},
   "outputs": [
    {
     "data": {
      "text/plain": [
       "array([[[255, 255, 226],\n",
       "        [255, 255, 226],\n",
       "        [255, 255, 226],\n",
       "        ...,\n",
       "        [254, 251, 220],\n",
       "        [251, 246, 222],\n",
       "        [254, 254, 229]],\n",
       "\n",
       "       [[253, 255, 230],\n",
       "        [253, 255, 230],\n",
       "        [250, 253, 227],\n",
       "        ...,\n",
       "        [246, 239, 223],\n",
       "        [246, 245, 227],\n",
       "        [250, 249, 239]],\n",
       "\n",
       "       [[249, 251, 235],\n",
       "        [252, 255, 232],\n",
       "        [251, 255, 225],\n",
       "        ...,\n",
       "        [132, 143, 147],\n",
       "        [ 94, 121, 131],\n",
       "        [101, 120, 131]],\n",
       "\n",
       "       ...,\n",
       "\n",
       "       [[ 13,  32,  13],\n",
       "        [ 21,  30,  14],\n",
       "        [ 18,  29,  12],\n",
       "        ...,\n",
       "        [  7,  23,  12],\n",
       "        [ 10,  21,   9],\n",
       "        [  4,  15,   4]],\n",
       "\n",
       "       [[  1,  14,   0],\n",
       "        [ 18,  34,  11],\n",
       "        [ 22,  38,  16],\n",
       "        ...,\n",
       "        [  8,  23,  13],\n",
       "        [ 15,  23,  13],\n",
       "        [ 16,  24,  13]],\n",
       "\n",
       "       [[ 11,  22,  14],\n",
       "        [ 15,  29,  11],\n",
       "        [ 22,  35,  19],\n",
       "        ...,\n",
       "        [  4,  20,  10],\n",
       "        [ 17,  25,  15],\n",
       "        [ 24,  32,  21]]], dtype=uint8)"
      ]
     },
     "execution_count": 54,
     "metadata": {},
     "output_type": "execute_result"
    }
   ],
   "source": [
    "# What does image look like in array\n",
    "X_train[0]"
   ]
  },
  {
   "cell_type": "code",
   "execution_count": 55,
   "metadata": {},
   "outputs": [
    {
     "data": {
      "image/png": "[encoded data removed]",
      "text/plain": [
       "<Figure size 432x288 with 1 Axes>"
      ]
     },
     "metadata": {
      "needs_background": "light"
     },
     "output_type": "display_data"
    }
   ],
   "source": [
    "#What does Image look like?\n",
    "plt.imshow(X_train[0],cmap=plt.cm.binary)\n",
    "plt.xlabel(CATEGORIES[y_train[0]])\n",
    "plt.show()\n"
   ]
  },
  {
   "cell_type": "raw",
   "metadata": {},
   "source": [
    "This image of a family may also throw off model because the model may learn the patterns relevant for identifying humans which is not valuable for this use case either."
   ]
  },
  {
   "cell_type": "code",
   "execution_count": 56,
   "metadata": {},
   "outputs": [],
   "source": [
    "# Normalizing Data\n",
    "X_train = X_train/255\n",
    "X_test = X_test/255"
   ]
  },
  {
   "cell_type": "markdown",
   "metadata": {},
   "source": [
    "# ANN and CNN Model Training & Review"
   ]
  },
  {
   "cell_type": "code",
   "execution_count": 59,
   "metadata": {},
   "outputs": [
    {
     "name": "stdout",
     "output_type": "stream",
     "text": [
      "Epoch 1/10\n",
      "430/430 [==============================] - 4s 8ms/step - loss: 0.7696 - accuracy: 0.5448\n",
      "Epoch 2/10\n",
      "430/430 [==============================] - 3s 7ms/step - loss: 0.6792 - accuracy: 0.5765\n",
      "Epoch 3/10\n",
      "430/430 [==============================] - 3s 8ms/step - loss: 0.6682 - accuracy: 0.5913\n",
      "Epoch 4/10\n",
      "430/430 [==============================] - 3s 7ms/step - loss: 0.6644 - accuracy: 0.5954\n",
      "Epoch 5/10\n",
      "430/430 [==============================] - 3s 7ms/step - loss: 0.6601 - accuracy: 0.6066\n",
      "Epoch 6/10\n",
      "430/430 [==============================] - 3s 7ms/step - loss: 0.6469 - accuracy: 0.6204\n",
      "Epoch 7/10\n",
      "430/430 [==============================] - 3s 7ms/step - loss: 0.6408 - accuracy: 0.6303\n",
      "Epoch 8/10\n",
      "430/430 [==============================] - 3s 7ms/step - loss: 0.6513 - accuracy: 0.6147\n",
      "Epoch 9/10\n",
      "430/430 [==============================] - 3s 7ms/step - loss: 0.6407 - accuracy: 0.6295\n",
      "Epoch 10/10\n",
      "430/430 [==============================] - 3s 7ms/step - loss: 0.6339 - accuracy: 0.6371\n",
      "0:00:39.802424\n"
     ]
    }
   ],
   "source": [
    "#Test on ANN first\n",
    "begin_time = datetime.datetime.now()\n",
    "\n",
    "modelANN = models.Sequential([\n",
    "    layers.Flatten(input_shape =(60,60,3)),\n",
    "    layers.Dense(100,activation='relu'),\n",
    "    layers.Dense(30,activation='relu'),\n",
    "    layers.Dense(2,activation='softmax')\n",
    "])\n",
    "\n",
    "modelANN.compile(optimizer='adam',loss='sparse_categorical_crossentropy',metrics=['accuracy'])\n",
    "modelANN.fit(X_train,y_train,epochs=10)\n",
    "\n",
    "print(datetime.datetime.now() - begin_time)"
   ]
  },
  {
   "cell_type": "code",
   "execution_count": 62,
   "metadata": {},
   "outputs": [
    {
     "name": "stdout",
     "output_type": "stream",
     "text": [
      "352/352 [==============================] - 1s 3ms/step - loss: 0.6531 - accuracy: 0.6190\n",
      "              precision    recall  f1-score   support\n",
      "\n",
      "           0       0.67      0.48      0.56      5664\n",
      "           1       0.59      0.76      0.66      5586\n",
      "\n",
      "    accuracy                           0.62     11250\n",
      "   macro avg       0.63      0.62      0.61     11250\n",
      "weighted avg       0.63      0.62      0.61     11250\n",
      "\n"
     ]
    }
   ],
   "source": [
    "modelANN.evaluate(X_test,y_test)\n",
    "y_pred = modelANN.predict(X_test)\n",
    "\n",
    "df = []\n",
    "catDog = [0,1]\n",
    "for i in range(len(X_test)):\n",
    "    df.append(catDog[np.argmax(y_pred[i])])\n",
    "\n",
    "y_pred = df    \n",
    "print(classification_report(y_test,y_pred))"
   ]
  },
  {
   "cell_type": "code",
   "execution_count": 63,
   "metadata": {},
   "outputs": [
    {
     "name": "stdout",
     "output_type": "stream",
     "text": [
      "Epoch 1/10\n",
      "430/430 [==============================] - 19s 42ms/step - loss: 0.6131 - accuracy: 0.6585\n",
      "Epoch 2/10\n",
      "430/430 [==============================] - 16s 38ms/step - loss: 0.5082 - accuracy: 0.7532\n",
      "Epoch 3/10\n",
      "430/430 [==============================] - 16s 38ms/step - loss: 0.4368 - accuracy: 0.7917\n",
      "Epoch 4/10\n",
      "430/430 [==============================] - 16s 38ms/step - loss: 0.3616 - accuracy: 0.8356\n",
      "Epoch 5/10\n",
      "430/430 [==============================] - 16s 38ms/step - loss: 0.2746 - accuracy: 0.8841\n",
      "Epoch 6/10\n",
      "430/430 [==============================] - 16s 38ms/step - loss: 0.1865 - accuracy: 0.9245\n",
      "Epoch 7/10\n",
      "430/430 [==============================] - 17s 38ms/step - loss: 0.1137 - accuracy: 0.9568\n",
      "Epoch 8/10\n",
      "430/430 [==============================] - 16s 38ms/step - loss: 0.0778 - accuracy: 0.9739\n",
      "Epoch 9/10\n",
      "430/430 [==============================] - 16s 38ms/step - loss: 0.0704 - accuracy: 0.9745\n",
      "Epoch 10/10\n",
      "430/430 [==============================] - 16s 38ms/step - loss: 0.0349 - accuracy: 0.98880s - loss: 0.033\n",
      "0:02:53.387499\n"
     ]
    }
   ],
   "source": [
    "# Now adding Convolution and Pooling Layers onto ANN \n",
    "# Convolution does most of the work? Don't need as many hidden networks?\n",
    "\n",
    "begin_time = datetime.datetime.now()\n",
    "\n",
    "modelCNN = models.Sequential([\n",
    "    layers.Conv2D(filters=25, kernel_size=(3,3),activation = 'relu', input_shape=(60,60,3)),\n",
    "    layers.MaxPooling2D((2,2)),\n",
    "    layers.Flatten(),\n",
    "    layers.Dense(100,activation='relu'),\n",
    "    layers.Dense(30,activation='relu'),\n",
    "    layers.Dense(2,activation='softmax')\n",
    "])\n",
    "modelCNN.compile(optimizer='adam',loss='sparse_categorical_crossentropy',metrics=['accuracy'])\n",
    "modelCNN.fit(X_train,y_train,epochs=10)\n",
    "\n",
    "print(datetime.datetime.now() - begin_time)"
   ]
  },
  {
   "cell_type": "code",
   "execution_count": 64,
   "metadata": {},
   "outputs": [
    {
     "name": "stdout",
     "output_type": "stream",
     "text": [
      "352/352 [==============================] - 4s 11ms/step - loss: 1.3917 - accuracy: 0.7252\n"
     ]
    },
    {
     "data": {
      "text/plain": [
       "[1.3916579484939575, 0.7252444624900818]"
      ]
     },
     "execution_count": 64,
     "metadata": {},
     "output_type": "execute_result"
    }
   ],
   "source": [
    "modelCNN.evaluate(X_test,y_test)"
   ]
  },
  {
   "cell_type": "code",
   "execution_count": 65,
   "metadata": {},
   "outputs": [
    {
     "name": "stdout",
     "output_type": "stream",
     "text": [
      "              precision    recall  f1-score   support\n",
      "\n",
      "           0       0.74      0.70      0.72      5664\n",
      "           1       0.71      0.75      0.73      5586\n",
      "\n",
      "    accuracy                           0.73     11250\n",
      "   macro avg       0.73      0.73      0.73     11250\n",
      "weighted avg       0.73      0.73      0.73     11250\n",
      "\n"
     ]
    }
   ],
   "source": [
    "y_pred = modelCNN.predict(X_test)\n",
    "\n",
    "df = []\n",
    "catDog = [0,1]\n",
    "for i in range(len(X_test)):\n",
    "    df.append(catDog[np.argmax(y_pred[i])])\n",
    "\n",
    "y_pred = df    \n",
    "print(classification_report(y_test,y_pred))"
   ]
  },
  {
   "cell_type": "code",
   "execution_count": null,
   "metadata": {},
   "outputs": [],
   "source": []
  }
 ],
 "metadata": {
  "kernelspec": {
   "display_name": "Python 3",
   "language": "python",
   "name": "python3"
  },
  "language_info": {
   "codemirror_mode": {
    "name": "ipython",
    "version": 3
   },
   "file_extension": ".py",
   "mimetype": "text/x-python",
   "name": "python",
   "nbconvert_exporter": "python",
   "pygments_lexer": "ipython3",
   "version": "3.8.5"
  }
 },
 "nbformat": 4,
 "nbformat_minor": 4
}
